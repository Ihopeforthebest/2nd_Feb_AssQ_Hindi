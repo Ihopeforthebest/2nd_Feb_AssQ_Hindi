{
 "cells": [
  {
   "cell_type": "code",
   "execution_count": 1,
   "id": "ecd9f656-d7c5-446f-b339-4e69d893d703",
   "metadata": {},
   "outputs": [],
   "source": [
    "# Q1. Explain with an example each when to use a for loop and a while loop.\n",
    "# Ans. 1)\n",
    "# A for loop is used for iterating over a sequence (that is either a list, a tuple, a dictionary, a set, or a string)."
   ]
  },
  {
   "cell_type": "code",
   "execution_count": 3,
   "id": "6dd7c5e3-3cc0-4f18-b38b-b175b80db45e",
   "metadata": {},
   "outputs": [],
   "source": [
    "color = [ \"Red\", \"Green\", \"Blue\" ]"
   ]
  },
  {
   "cell_type": "code",
   "execution_count": 5,
   "id": "20a56644-f58e-418b-9a32-16a73a1c6e99",
   "metadata": {},
   "outputs": [
    {
     "name": "stdout",
     "output_type": "stream",
     "text": [
      "Red\n",
      "Green\n",
      "Blue\n"
     ]
    }
   ],
   "source": [
    "for x in color:\n",
    "    print (x)"
   ]
  },
  {
   "cell_type": "code",
   "execution_count": null,
   "id": "5aac7ca2-cae9-4425-9e88-397b94c57c68",
   "metadata": {},
   "outputs": [],
   "source": []
  },
  {
   "cell_type": "code",
   "execution_count": 6,
   "id": "1b0ea6e5-47ea-4f9a-bbe6-971161b43b3a",
   "metadata": {},
   "outputs": [],
   "source": [
    "# With the while loop we can execute a set of statements as long as a condition is true."
   ]
  },
  {
   "cell_type": "code",
   "execution_count": 11,
   "id": "ce892592-f6a1-4dfa-a1db-4a9b33fae1f0",
   "metadata": {},
   "outputs": [
    {
     "name": "stdout",
     "output_type": "stream",
     "text": [
      "0\n",
      "1\n",
      "2\n",
      "3\n",
      "4\n",
      "5\n",
      "6\n",
      "7\n",
      "8\n",
      "9\n"
     ]
    }
   ],
   "source": [
    "i = 0\n",
    "while i < 10:\n",
    "    print(i)\n",
    "    i+=1"
   ]
  },
  {
   "cell_type": "code",
   "execution_count": null,
   "id": "d5b39518-654c-4d22-97e8-bd2fa2db04ba",
   "metadata": {},
   "outputs": [],
   "source": []
  },
  {
   "cell_type": "code",
   "execution_count": null,
   "id": "b89b1fe6-6de7-4038-a479-3448a84dbbab",
   "metadata": {},
   "outputs": [],
   "source": []
  },
  {
   "cell_type": "code",
   "execution_count": null,
   "id": "4cf1f6f0-01e1-4fce-a7d0-7af8c1293b8e",
   "metadata": {},
   "outputs": [],
   "source": []
  },
  {
   "cell_type": "code",
   "execution_count": 12,
   "id": "64b18133-bf3b-491e-9820-d0b4857a74ac",
   "metadata": {},
   "outputs": [],
   "source": [
    "# Q2. Write a python program to print the sum and product of the first 10 natural numbers using for\n",
    "# and while loop.\n",
    "# Ans. 2) Sum and product of the first 10 natural numbers using for loop"
   ]
  },
  {
   "cell_type": "code",
   "execution_count": 15,
   "id": "c7d5ce98-a480-4e09-9567-fce9e7925233",
   "metadata": {},
   "outputs": [
    {
     "name": "stdout",
     "output_type": "stream",
     "text": [
      "Sum of first 10 natural numbers =  55\n",
      "Product of first 10 natural numbers =  3628800\n"
     ]
    }
   ],
   "source": [
    "Sum = 0\n",
    "Prod = 1\n",
    "for i in range(1,11):\n",
    "    Sum = Sum + i\n",
    "    Prod = Prod * i\n",
    "print(\"Sum of first 10 natural numbers = \" , Sum)\n",
    "print(\"Product of first 10 natural numbers = \" , Prod)"
   ]
  },
  {
   "cell_type": "code",
   "execution_count": 16,
   "id": "e79b6266-978b-4d5e-9350-694d6b3ae75a",
   "metadata": {},
   "outputs": [],
   "source": [
    "# Sum and product of the first 10 natural numbers using while loop"
   ]
  },
  {
   "cell_type": "code",
   "execution_count": 18,
   "id": "d30e1ae1-9c5f-4b39-97e2-056bfcb138f8",
   "metadata": {},
   "outputs": [
    {
     "name": "stdout",
     "output_type": "stream",
     "text": [
      "Sum of first 10 natural numbers =  55\n",
      "Product of first 10 natural numbers =  3628800\n"
     ]
    }
   ],
   "source": [
    "n = 1\n",
    "Sum = 0\n",
    "Prod = 1\n",
    "while n < 11:\n",
    "    Sum = Sum + n\n",
    "    Prod = Prod * n\n",
    "    n+=1\n",
    "print(\"Sum of first 10 natural numbers = \" , Sum)\n",
    "print(\"Product of first 10 natural numbers = \" , Prod)"
   ]
  },
  {
   "cell_type": "code",
   "execution_count": null,
   "id": "fd4688b0-a327-4c1f-a653-9fb73bbeb052",
   "metadata": {},
   "outputs": [],
   "source": []
  },
  {
   "cell_type": "code",
   "execution_count": null,
   "id": "ebc446ea-a080-44f3-8e87-9fe23b7089b5",
   "metadata": {},
   "outputs": [],
   "source": []
  },
  {
   "cell_type": "code",
   "execution_count": null,
   "id": "73270556-b2a6-4215-aad1-8b762ff8771d",
   "metadata": {},
   "outputs": [],
   "source": []
  },
  {
   "cell_type": "code",
   "execution_count": 19,
   "id": "f5bfe10c-8200-4cd1-acf6-f4b2de33cdd8",
   "metadata": {},
   "outputs": [],
   "source": [
    "# Q3. Create a python program to compute the electricity bill for a household.\n",
    "# The per-unit charges in rupees are as follows: For the first 100 units, the user will be charged Rs. 4.5 per\n",
    "# unit, for the next 100 units, the user will be charged Rs. 6 per unit, and for the next 100 units, the user will\n",
    "# be charged Rs. 10 per unit, After 300 units and above the user will be charged Rs. 20 per unit.\n",
    "# You are required to take the units of electricity consumed in a month from the user as input.\n",
    "# Your program must pass this test case: when the unit of electricity consumed by the user in a month is\n",
    "# 310, the total electricity bill should be 2250.\n",
    "# Ans. 3) Electricity bill of user per month"
   ]
  },
  {
   "cell_type": "code",
   "execution_count": 22,
   "id": "3d895e7d-5b82-497c-82b8-f542f0214732",
   "metadata": {},
   "outputs": [
    {
     "name": "stdin",
     "output_type": "stream",
     "text": [
      "Enter no. of units of electricity consumed this month :  310\n"
     ]
    },
    {
     "name": "stdout",
     "output_type": "stream",
     "text": [
      "Your electricity bill for this month is :  2250.0\n"
     ]
    }
   ],
   "source": [
    "unit = int(input(\"Enter no. of units of electricity consumed this month : \"))\n",
    "b1,b2,b3,b4 = 0,0,0,0\n",
    "for i in range(1,unit+1):\n",
    "    if i>= 1 and i<=100:\n",
    "        b1 += 4.5\n",
    "    elif i>100 and i<=200:\n",
    "        b2 += 6\n",
    "    elif i>200 and i<=300:\n",
    "        b3 += 10\n",
    "    else:\n",
    "        b4 += 20\n",
    "total = b1+b2+b3+b4\n",
    "print(\"Your electricity bill for this month is : \" , total)"
   ]
  },
  {
   "cell_type": "code",
   "execution_count": null,
   "id": "6dcff7c0-51bd-4fc3-94a6-907846233319",
   "metadata": {},
   "outputs": [],
   "source": []
  },
  {
   "cell_type": "code",
   "execution_count": null,
   "id": "bd5ba916-6a2a-42dd-b5dd-685697358cca",
   "metadata": {},
   "outputs": [],
   "source": []
  },
  {
   "cell_type": "code",
   "execution_count": null,
   "id": "938cdd62-6424-4fed-a6a3-c6d08e31030c",
   "metadata": {},
   "outputs": [],
   "source": []
  },
  {
   "cell_type": "code",
   "execution_count": 23,
   "id": "7edfdde5-048b-4d4b-9325-4c6417f15747",
   "metadata": {},
   "outputs": [],
   "source": [
    "# Q4. Create a list of numbers from 1 to 100. Use for loop and while loop to calculate the cube of each\n",
    "# number and if the cube of that number is divisible by 4 or 5 then append that number in a list and print\n",
    "# that list.\n",
    "# Ans. 4)"
   ]
  },
  {
   "cell_type": "code",
   "execution_count": 26,
   "id": "1e602622-6638-4a34-b560-c31437ced536",
   "metadata": {},
   "outputs": [
    {
     "name": "stdout",
     "output_type": "stream",
     "text": [
      "[2, 4, 5, 6, 8, 10, 12, 14, 15, 16, 18, 20, 22, 24, 25, 26, 28, 30, 32, 34, 35, 36, 38, 40, 42, 44, 45, 46, 48, 50, 52, 54, 55, 56, 58, 60, 62, 64, 65, 66, 68, 70, 72, 74, 75, 76, 78, 80, 82, 84, 85, 86, 88, 90, 92, 94, 95, 96, 98, 100]\n"
     ]
    }
   ],
   "source": [
    "lst1 = []\n",
    "lst2 = []\n",
    "lst3 = []\n",
    "n = 0\n",
    "for i in range(1,101):\n",
    "    lst1.append(i)\n",
    "    lst2.append(i*i*i)\n",
    "    if lst2[n]%4 == 0 or lst2[n]%5 == 0:\n",
    "        lst3.append(i)\n",
    "    n += 1\n",
    "print(lst3)"
   ]
  },
  {
   "cell_type": "code",
   "execution_count": null,
   "id": "b6ceb1c6-2943-4054-b860-54c6934e4747",
   "metadata": {},
   "outputs": [],
   "source": []
  },
  {
   "cell_type": "code",
   "execution_count": null,
   "id": "2e86fe9b-7356-4f34-bb4e-10e14d4e33c8",
   "metadata": {},
   "outputs": [],
   "source": []
  },
  {
   "cell_type": "code",
   "execution_count": 28,
   "id": "6bc841a0-32b9-4704-bf28-f821de9d2867",
   "metadata": {},
   "outputs": [
    {
     "name": "stdout",
     "output_type": "stream",
     "text": [
      "[2, 4, 5, 6, 8, 10, 12, 14, 15, 16, 18, 20, 22, 24, 25, 26, 28, 30, 32, 34, 35, 36, 38, 40, 42, 44, 45, 46, 48, 50, 52, 54, 55, 56, 58, 60, 62, 64, 65, 66, 68, 70, 72, 74, 75, 76, 78, 80, 82, 84, 85, 86, 88, 90, 92, 94, 95, 96, 98, 100]\n"
     ]
    }
   ],
   "source": [
    "lst1 = []\n",
    "lst2 = []\n",
    "lst3 = []\n",
    "n,i = 0,1\n",
    "while n < 100:\n",
    "    lst1.append(i)\n",
    "    lst2.append(i*i*i)\n",
    "    if lst2[n]%4 == 0 or lst2[n]%5 == 0:\n",
    "        lst3.append(i)\n",
    "    i += 1\n",
    "    n += 1\n",
    "print(lst3)\n"
   ]
  },
  {
   "cell_type": "code",
   "execution_count": null,
   "id": "56722fca-f0af-4f77-82c7-2211bd0f8217",
   "metadata": {},
   "outputs": [],
   "source": []
  },
  {
   "cell_type": "code",
   "execution_count": null,
   "id": "d8dff20e-12fd-45ae-bc6f-2f021dcfb852",
   "metadata": {},
   "outputs": [],
   "source": []
  },
  {
   "cell_type": "code",
   "execution_count": null,
   "id": "8d5523c3-f332-4168-85ed-55e3d5f21606",
   "metadata": {},
   "outputs": [],
   "source": []
  },
  {
   "cell_type": "code",
   "execution_count": 29,
   "id": "31b11518-ef58-47ee-8ab3-8ea5204b7253",
   "metadata": {},
   "outputs": [],
   "source": [
    "# Q5. Write a program to filter count vowels in the below-given string.\n",
    "# string = \"I want to become a data scientist\"\n",
    "# Ans. 5)"
   ]
  },
  {
   "cell_type": "code",
   "execution_count": 33,
   "id": "b32c8e79-6df2-4e1a-a46f-13b971fbb456",
   "metadata": {},
   "outputs": [
    {
     "name": "stdout",
     "output_type": "stream",
     "text": [
      "Iaoeoeaaaiei\n",
      "12\n"
     ]
    }
   ],
   "source": [
    "lst = []\n",
    "vow = \"aeiouAEIOU\"\n",
    "st = \"I want to become a data scientist\"\n",
    "for i in st:\n",
    "    if i in vow:\n",
    "        lst.append(i)\n",
    "lst = \"\".join(lst)\n",
    "s = str(lst)\n",
    "print(s)\n",
    "print(len(s))"
   ]
  },
  {
   "cell_type": "code",
   "execution_count": null,
   "id": "61b6effb-c6fa-4f59-8d15-3214c598ee62",
   "metadata": {},
   "outputs": [],
   "source": []
  }
 ],
 "metadata": {
  "kernelspec": {
   "display_name": "Python 3 (ipykernel)",
   "language": "python",
   "name": "python3"
  },
  "language_info": {
   "codemirror_mode": {
    "name": "ipython",
    "version": 3
   },
   "file_extension": ".py",
   "mimetype": "text/x-python",
   "name": "python",
   "nbconvert_exporter": "python",
   "pygments_lexer": "ipython3",
   "version": "3.10.8"
  }
 },
 "nbformat": 4,
 "nbformat_minor": 5
}
